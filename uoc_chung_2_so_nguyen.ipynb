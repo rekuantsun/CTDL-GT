{
  "nbformat": 4,
  "nbformat_minor": 0,
  "metadata": {
    "colab": {
      "name": "uoc-chung-2-so-nguyen.ipynb",
      "provenance": [],
      "authorship_tag": "ABX9TyOL8xYu7SFUIwRNnSQHwO2P",
      "include_colab_link": true
    },
    "kernelspec": {
      "name": "python3",
      "display_name": "Python 3"
    },
    "language_info": {
      "name": "python"
    }
  },
  "cells": [
    {
      "cell_type": "markdown",
      "metadata": {
        "id": "view-in-github",
        "colab_type": "text"
      },
      "source": [
        "<a href=\"https://colab.research.google.com/github/rekuantsun/CTDL-GT/blob/main/uoc_chung_2_so_nguyen.ipynb\" target=\"_parent\"><img src=\"https://colab.research.google.com/assets/colab-badge.svg\" alt=\"Open In Colab\"/></a>"
      ]
    },
    {
      "cell_type": "code",
      "execution_count": 1,
      "metadata": {
        "colab": {
          "base_uri": "https://localhost:8080/"
        },
        "id": "d1Q4Vhryo620",
        "outputId": "0eb9ba76-8493-4f96-acb5-beb98af33f56"
      },
      "outputs": [
        {
          "output_type": "stream",
          "name": "stdout",
          "text": [
            "Nhập số nguyên dương a:3\n",
            "Nhập số nguyên dương b:12\n",
            "Ước số chung lớn nhất của 3 và 12 là: 3\n"
          ]
        }
      ],
      "source": [
        "def uscln(a, b):\n",
        "    if (b == 0):\n",
        "        return a\n",
        "    return uscln(b, a % b)\n",
        "\n",
        "a = int(input('Nhập số nguyên dương a: '))\n",
        "b = int(input('Nhập số nguyên dương b: '))\n",
        "print('Ước số chung lớn nhất của',a,'và',b,'là:',uscln(a,b))"
      ]
    },
    {
      "cell_type": "code",
      "source": [
        ""
      ],
      "metadata": {
        "id": "b7QKl4rGxYOr"
      },
      "execution_count": null,
      "outputs": []
    }
  ]
}