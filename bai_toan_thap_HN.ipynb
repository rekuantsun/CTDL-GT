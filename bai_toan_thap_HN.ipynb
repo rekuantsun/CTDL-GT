{
  "nbformat": 4,
  "nbformat_minor": 0,
  "metadata": {
    "colab": {
      "name": "bai-toan-thap-HN.ipynb",
      "provenance": [],
      "authorship_tag": "ABX9TyOV9urfloakau+4ntxEvPMT",
      "include_colab_link": true
    },
    "kernelspec": {
      "name": "python3",
      "display_name": "Python 3"
    },
    "language_info": {
      "name": "python"
    }
  },
  "cells": [
    {
      "cell_type": "markdown",
      "metadata": {
        "id": "view-in-github",
        "colab_type": "text"
      },
      "source": [
        "<a href=\"https://colab.research.google.com/github/rekuantsun/CTDL-GT/blob/main/bai_toan_thap_HN.ipynb\" target=\"_parent\"><img src=\"https://colab.research.google.com/assets/colab-badge.svg\" alt=\"Open In Colab\"/></a>"
      ]
    },
    {
      "cell_type": "code",
      "execution_count": null,
      "metadata": {
        "colab": {
          "base_uri": "https://localhost:8080/"
        },
        "id": "KdY5RsyKiT7t",
        "outputId": "1f00e6cb-93e3-4359-b41f-335461d20764"
      },
      "outputs": [
        {
          "output_type": "stream",
          "name": "stdout",
          "text": [
            "Số Dĩa: 3\n",
            "D: 1 Move Nguồn => Đích\n",
            "D: 2 Move Nguồn => Trung gian\n",
            "D: 1 Move Đích => Trung gian\n",
            "D: 3 Move Nguồn => Đích\n",
            "D: 1 Move Trung gian => Nguồn\n",
            "D: 2 Move Trung gian => Đích\n",
            "D: 1 Move Nguồn => Đích\n"
          ]
        }
      ],
      "source": [
        "def hanoi(n,N,TG,D):\n",
        "  if (n == 1):\n",
        "    print(\"D:\",n,'Move',N,'=>',D)\n",
        "    return()\n",
        "  hanoi(n-1,N,D,TG)\n",
        "  print(\"D:\",n,'Move',N,'=>',D)\n",
        "  hanoi(n-1,TG,N,D)\n",
        "\n",
        "n= int(input('Số Dĩa: '))\n",
        "hanoi(n,'Nguồn','Trung gian','Đích')"
      ]
    },
    {
      "cell_type": "code",
      "source": [
        ""
      ],
      "metadata": {
        "id": "oJ1EZqk9jxRU"
      },
      "execution_count": null,
      "outputs": []
    }
  ]
}